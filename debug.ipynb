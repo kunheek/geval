{
 "cells": [
  {
   "cell_type": "code",
   "execution_count": 12,
   "metadata": {},
   "outputs": [
    {
     "name": "stdout",
     "output_type": "stream",
     "text": [
      "NpzFile 'cifar10-32x32.npz' with keys: mu, sigma\n",
      "(2048,) (2048, 2048)\n"
     ]
    }
   ],
   "source": [
    "import numpy as np\n",
    "\n",
    "edm_stats = np.load('cifar10-32x32.npz')\n",
    "print(edm_stats)\n",
    "mu1, sigma1 = edm_stats['mu'], edm_stats['sigma']\n",
    "print(mu1.shape, sigma1.shape)"
   ]
  },
  {
   "cell_type": "code",
   "execution_count": 13,
   "metadata": {},
   "outputs": [
    {
     "name": "stdout",
     "output_type": "stream",
     "text": [
      "(2048,) (2048, 2048)\n"
     ]
    }
   ],
   "source": [
    "from geval.metrics import fd\n",
    "\n",
    "feats = np.load(\"assets/stats/cifar10_32_inception.npz\")[\"feats\"]\n",
    "mu2, sigma2 = fd.compute_statistics(feats)\n",
    "print(mu2.shape, sigma2.shape)"
   ]
  },
  {
   "cell_type": "code",
   "execution_count": 14,
   "metadata": {},
   "outputs": [
    {
     "name": "stdout",
     "output_type": "stream",
     "text": [
      "9.325770976420636e-05\n"
     ]
    }
   ],
   "source": [
    "print(fd.compute_FD_with_stats(mu1, mu2, sigma1, sigma2))"
   ]
  },
  {
   "cell_type": "code",
   "execution_count": null,
   "metadata": {},
   "outputs": [],
   "source": []
  }
 ],
 "metadata": {
  "kernelspec": {
   "display_name": "geval",
   "language": "python",
   "name": "python3"
  },
  "language_info": {
   "codemirror_mode": {
    "name": "ipython",
    "version": 3
   },
   "file_extension": ".py",
   "mimetype": "text/x-python",
   "name": "python",
   "nbconvert_exporter": "python",
   "pygments_lexer": "ipython3",
   "version": "3.10.13"
  }
 },
 "nbformat": 4,
 "nbformat_minor": 2
}
